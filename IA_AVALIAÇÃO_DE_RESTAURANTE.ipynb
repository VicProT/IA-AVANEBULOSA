{
  "cells": [
    {
      "cell_type": "markdown",
      "metadata": {
        "id": "view-in-github",
        "colab_type": "text"
      },
      "source": [
        "<a href=\"https://colab.research.google.com/github/VicProT/IA-AVANEBULOSA/blob/main/IA_AVALIA%C3%87%C3%83O_DE_RESTAURANTE.ipynb\" target=\"_parent\"><img src=\"https://colab.research.google.com/assets/colab-badge.svg\" alt=\"Open In Colab\"/></a>"
      ]
    },
    {
      "cell_type": "markdown",
      "source": [
        "IA- AVALIADOR DE RESTAURANTE (UTILIZANDO LOGICA NEBULOSA)\n",
        "CLIENTE ADD NOME E AVALIA A COMIDA, ATENDIMENTO E ESTRUTURA EM OTIMO RUIM OU REGULAR\n",
        "REGRAS - 2 RESPOSTAS OTIMAS, AVALIAÇÃO OTIMA\n",
        "         2 RESPOSTAS RUINS, AVALIAÇÃO RUIM\n",
        "         2 RESPOSTAS REGULARES, AVALIAÇÃO REGULAR\n",
        "         3 RESPOSTAS DIFERENTES, AVALIAÇÃO REGULAR\n"
      ],
      "metadata": {
        "id": "Y33wD_iq_y8V"
      }
    },
    {
      "cell_type": "code",
      "source": [
        "def avaliacao_restaurante():\n",
        "    nome_usuario = input(\"Por favor, digite o seu nome: \")\n",
        "    print(\"\\n\")\n",
        "    print(f'Olá {nome_usuario}, sou o avaliador do restaurante. Irei realizar 3 perguntas, onde as respostas poderão ser Ótimo, Ruim ou Regular.')\n",
        "    print(\"\\n\")\n",
        "\n",
        "    perguntas = [\n",
        "        \"Qual a avaliação da nossa comida?\",\n",
        "        \"Qual a avaliação do nosso atendimento?\",\n",
        "        \"Qual a avaliação da nossa estrutura?\"\n",
        "    ]\n",
        "\n",
        "    # validar as respostas\n",
        "    respostas_validas = [\"otimo\", \"ruim\", \"regular\"]\n",
        "    # Contador das respostas\n",
        "    contagem_respostas = {\"otimo\": 0, \"ruim\": 0, \"regular\": 0}\n",
        "\n",
        "    # Loop para veficar as respostas\n",
        "    for pergunta in perguntas:\n",
        "        while True:\n",
        "            resposta = input(pergunta + \" (Otimo/Ruim/Regular): \").lower()\n",
        "            if resposta in respostas_validas:\n",
        "                print(f\"Resposta registrada: {resposta}\\n\")\n",
        "                contagem_respostas[resposta] += 1\n",
        "                break\n",
        "            else:\n",
        "                print(\"Resposta inválida. Por favor, responda com Ótimo, Ruim ou Regular.\\n\")\n",
        "\n",
        "    # Simplificação da determinação da avaliação final\n",
        "    avaliacao_final = \"Regular\"  # Valor padrão\n",
        "    if any(contagem_respostas[resp] >= 2 for resp in [\"otimo\", \"ruim\"]):\n",
        "        avaliacao_final = \"otima\" if contagem_respostas[\"otimo\"] >= 2 else \"Ruim\"\n",
        "\n",
        "    print(f\"Sua avaliação para nosso restaurante é: {avaliacao_final}\")\n",
        "\n",
        "\n",
        "avaliacao_restaurante()"
      ],
      "metadata": {
        "colab": {
          "base_uri": "https://localhost:8080/"
        },
        "id": "DWVf7SW-0pMx",
        "outputId": "62dbd065-9bd2-4e09-de6d-4415166957ba"
      },
      "execution_count": null,
      "outputs": [
        {
          "output_type": "stream",
          "name": "stdout",
          "text": [
            "Por favor, digite o seu nome: Victor\n",
            "\n",
            "\n",
            "Olá Victor, sou o avaliador do restaurante. Irei realizar 3 perguntas, onde as respostas poderão ser Ótimo, Ruim ou Regular.\n",
            "\n",
            "\n",
            "Qual a avaliação da nossa comida? (Otimo/Ruim/Regular): Boa\n",
            "Resposta inválida. Por favor, responda com Ótimo, Ruim ou Regular.\n",
            "\n",
            "Qual a avaliação da nossa comida? (Otimo/Ruim/Regular): Ruim\n",
            "Resposta registrada: ruim\n",
            "\n",
            "Qual a avaliação do nosso atendimento? (Otimo/Ruim/Regular): boa\n",
            "Resposta inválida. Por favor, responda com Ótimo, Ruim ou Regular.\n",
            "\n",
            "Qual a avaliação do nosso atendimento? (Otimo/Ruim/Regular): ReGular\n",
            "Resposta registrada: regular\n",
            "\n",
            "Qual a avaliação da nossa estrutura? (Otimo/Ruim/Regular): Ótima\n",
            "Resposta inválida. Por favor, responda com Ótimo, Ruim ou Regular.\n",
            "\n",
            "Qual a avaliação da nossa estrutura? (Otimo/Ruim/Regular): ótimo\n",
            "Resposta inválida. Por favor, responda com Ótimo, Ruim ou Regular.\n",
            "\n",
            "Qual a avaliação da nossa estrutura? (Otimo/Ruim/Regular): Otimo\n",
            "Resposta registrada: otimo\n",
            "\n",
            "Sua avaliação para nosso restaurante é: Regular\n"
          ]
        }
      ]
    },
    {
      "cell_type": "markdown",
      "source": [],
      "metadata": {
        "id": "IVtfytlO_NCQ"
      }
    }
  ],
  "metadata": {
    "colab": {
      "toc_visible": true,
      "provenance": [],
      "include_colab_link": true
    },
    "kernelspec": {
      "display_name": "Python 3",
      "name": "python3"
    }
  },
  "nbformat": 4,
  "nbformat_minor": 0
}